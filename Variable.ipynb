{
  "nbformat": 4,
  "nbformat_minor": 0,
  "metadata": {
    "colab": {
      "provenance": [],
      "authorship_tag": "ABX9TyNV4Yjbn87UwTVEV+W/aRD0",
      "include_colab_link": true
    },
    "kernelspec": {
      "name": "python3",
      "display_name": "Python 3"
    },
    "language_info": {
      "name": "python"
    }
  },
  "cells": [
    {
      "cell_type": "markdown",
      "metadata": {
        "id": "view-in-github",
        "colab_type": "text"
      },
      "source": [
        "<a href=\"https://colab.research.google.com/github/Vebby2007/Dasar-python-variable/blob/main/Variable.ipynb\" target=\"_parent\"><img src=\"https://colab.research.google.com/assets/colab-badge.svg\" alt=\"Open In Colab\"/></a>"
      ]
    },
    {
      "cell_type": "markdown",
      "source": [
        "\n",
        "\n",
        "#Variable\n",
        "\n",
        "Sesuai dengan namanya, variable adalah sesuatu yang dapat berubah. Variabel ini digunakan untuk merujuk menuju lokasi memori oleh program komputer."
      ],
      "metadata": {
        "id": "7cyV1e3-E7uj"
      }
    },
    {
      "cell_type": "code",
      "source": [
        "num = 39\n",
        "print(num)\n",
        "\n",
        "type(num)"
      ],
      "metadata": {
        "id": "UZfswY4Q7uJr",
        "colab": {
          "base_uri": "https://localhost:8080/"
        },
        "outputId": "4adfbd56-c21c-4361-a121-7d225f70acb1"
      },
      "execution_count": null,
      "outputs": [
        {
          "output_type": "stream",
          "name": "stdout",
          "text": [
            "39\n"
          ]
        },
        {
          "output_type": "execute_result",
          "data": {
            "text/plain": [
              "int"
            ]
          },
          "metadata": {},
          "execution_count": 1
        }
      ]
    },
    {
      "cell_type": "markdown",
      "source": [
        "#Integer\n",
        "Integer adalah angka numerik yang dapat berupa nilai positif, negatif, atau nol tanpa memiliki angka desimal"
      ],
      "metadata": {
        "id": "OTlGdEeSE-uU"
      }
    },
    {
      "cell_type": "code",
      "execution_count": null,
      "metadata": {
        "id": "ZWuRo75G6XCc"
      },
      "outputs": [],
      "source": [
        "num = 39\n",
        "print(num)\n",
        "\n",
        "type(num)"
      ]
    },
    {
      "cell_type": "markdown",
      "source": [
        "#Float\n",
        "Float adalah angka numerik sama seperti integer , namun ada sedikit perbedaan, yaitu adanya angka desimal"
      ],
      "metadata": {
        "id": "znfO4XOtF0ao"
      }
    },
    {
      "cell_type": "code",
      "source": [
        "num = 39.0\n",
        "print(num)\n",
        "\n",
        "type(num)"
      ],
      "metadata": {
        "colab": {
          "base_uri": "https://localhost:8080/"
        },
        "id": "Mmahf1BrF6rq",
        "outputId": "d097a5f2-c219-4054-aa5f-705cfe093893"
      },
      "execution_count": null,
      "outputs": [
        {
          "output_type": "stream",
          "name": "stdout",
          "text": [
            "39.0\n"
          ]
        },
        {
          "output_type": "execute_result",
          "data": {
            "text/plain": [
              "float"
            ]
          },
          "metadata": {},
          "execution_count": 2
        }
      ]
    },
    {
      "cell_type": "markdown",
      "source": [
        "#String\n",
        "String adalah kumpulan beberapa karakter atau integer. String tersebut direpresentasikan dengan menggunakan tanda quotes (double ataupun single)."
      ],
      "metadata": {
        "id": "N3Kat3SLGCT8"
      }
    },
    {
      "cell_type": "code",
      "source": [
        "test = \"Hallo semua\"\n",
        "print(test )\n",
        "\n",
        "type(test )"
      ],
      "metadata": {
        "colab": {
          "base_uri": "https://localhost:8080/"
        },
        "id": "XsFA71dAGssX",
        "outputId": "42d2073b-d271-4dd2-c4ec-9dd57ba399f8"
      },
      "execution_count": null,
      "outputs": [
        {
          "output_type": "stream",
          "name": "stdout",
          "text": [
            "Hallo semua\n"
          ]
        },
        {
          "output_type": "execute_result",
          "data": {
            "text/plain": [
              "str"
            ]
          },
          "metadata": {},
          "execution_count": 3
        }
      ]
    },
    {
      "cell_type": "markdown",
      "source": [
        "#Boolean\n",
        "Boolean adalah operator biner yang hanya memiliki dua nilai output yaitu True atau False."
      ],
      "metadata": {
        "id": "c8DIGCy7G07Y"
      }
    },
    {
      "cell_type": "code",
      "source": [
        "\n",
        "anda_robot = False\n",
        "print(anda_robot)\n",
        "False\n",
        "type(anda_robot)\n",
        "<class 'bool'>"
      ],
      "metadata": {
        "id": "5FB_ZstoG6Gf"
      },
      "execution_count": null,
      "outputs": []
    },
    {
      "cell_type": "markdown",
      "source": [
        "#Operator\n",
        "Operator adalah simbol aritmatika pada bahasa pemrograman Python atau bahasa lainnya, untuk melihat seluruh operator yang tersedia pada Python Anda dapat melihat table di bawah ini."
      ],
      "metadata": {
        "id": "U-G5KqcBKe0b"
      }
    },
    {
      "cell_type": "code",
      "source": [
        "a = 7\n",
        "b = 3\n",
        "a % b # Modulus (sisa pembagian)\n",
        "1\n",
        "a // b # Floor division (di bulatkan ke bawah)\n",
        "2"
      ],
      "metadata": {
        "id": "TFWUDDvtKmEq"
      },
      "execution_count": null,
      "outputs": []
    },
    {
      "cell_type": "markdown",
      "source": [
        "#Operator aritmatika\n",
        "Operator yang akan kita bahas adalah penambahan, pengurangan, perkalian, eksponensial, modulus, dan pembagian. Mari kita lihat operasi aritmatika sederhana pada bahasa pemrograman Python."
      ],
      "metadata": {
        "id": "GxYVcQ3NK4r4"
      }
    },
    {
      "cell_type": "code",
      "source": [
        "a = 7\n",
        "b = 3\n",
        "a % b # Modulus (sisa pembagian)\n",
        "1\n",
        "a // b # Floor division (di bulatkan ke bawah)\n",
        "2"
      ],
      "metadata": {
        "id": "X4hHdBcEK7OS"
      },
      "execution_count": null,
      "outputs": []
    },
    {
      "cell_type": "markdown",
      "source": [
        "#Operator pembanding\n",
        "Contoh operator pembanding adalah sama dengan, lebih besar dari, serta kurang dari."
      ],
      "metadata": {
        "id": "cJSBE_xJLDTW"
      }
    },
    {
      "cell_type": "code",
      "source": [
        "a = 5\n",
        "b = 2\n",
        "a > b # Lebih besar\n",
        "True\n",
        "a < b # kurang dari\n",
        "False\n",
        "a == b # sama dengan\n",
        "False\n",
        "a >= 5 # lebih besar atau sama dengan\n",
        "True\n",
        "b <= 1 # lebih kecil atau sama dengan\n",
        "False"
      ],
      "metadata": {
        "id": "5hudKWivLKYS"
      },
      "execution_count": null,
      "outputs": []
    },
    {
      "cell_type": "markdown",
      "source": [
        "#Operator logika\n",
        "Operator ini \"tidak termasuk\", \"dan\", \"dan atau\""
      ],
      "metadata": {
        "id": "bH8ykPAmLNyO"
      }
    },
    {
      "cell_type": "code",
      "source": [
        "a = 10\n",
        "b = 2\n",
        "a == 2 and b == 10 # dan\n",
        "False\n",
        "a == 10 or b == 10 # atau\n",
        "True\n",
        "not(a == 10) # tidak\n",
        "False\n",
        "not(a == 2)\n",
        "True"
      ],
      "metadata": {
        "id": "4BGDs8JVLSUY"
      },
      "execution_count": null,
      "outputs": []
    },
    {
      "cell_type": "markdown",
      "source": [
        "#Conditional Statement\n",
        "Conditional statement digunakan untuk memeriksa suatu kondisi yang ditentukan sebelumnya apakah nilai nya True atau False."
      ],
      "metadata": {
        "id": "rv9lj7cPLVWj"
      }
    },
    {
      "cell_type": "code",
      "source": [
        "angka = 5\n",
        "if angka == 10:\n",
        "    print(\"angka adalah 10\")\n",
        "elif angka < 10:\n",
        "    print(\"angka adalah kurang dari 10\")\n",
        "else:\n",
        "    print(\"angka adalah lebih dari 10\")"
      ],
      "metadata": {
        "id": "ejx9BWwZLZas"
      },
      "execution_count": null,
      "outputs": []
    },
    {
      "cell_type": "markdown",
      "source": [
        "#Kondisi kedua.\n",
        " Pada kasus ini kita akan memiliki variabel boolean dan dua kondisi. Pada contoh sebelumnya ketika kita membahas mengenai boolean apakah benar atau salah? Saat ini kita akan menggunakannya kembali pada conditional statement."
      ],
      "metadata": {
        "id": "8Kkd5ggbLdab"
      }
    },
    {
      "cell_type": "code",
      "source": [
        "anda_robot = False\n",
        "if anda_robot:\n",
        "    print (\"Ya, saya robot\")\n",
        "else:\n",
        "    print (\"bukan, saya manusia\")"
      ],
      "metadata": {
        "id": "24QBNKxVLj-W"
      },
      "execution_count": null,
      "outputs": []
    },
    {
      "cell_type": "markdown",
      "source": [
        "#Kondisi ketiga.\n",
        " Pada contoh ini kita akan membuat kondisi berkebalikan dari kondisi kedua dengan operator not."
      ],
      "metadata": {
        "id": "qFhXw5NOLqLu"
      }
    },
    {
      "cell_type": "code",
      "source": [
        "anda_robot = False\n",
        "if not anda_robot:\n",
        "    print (\"Ya, saya robot\")\n",
        "else:\n",
        "    print (\"bukan, saya manusia\")"
      ],
      "metadata": {
        "id": "ehDOeEqyLvS7"
      },
      "execution_count": null,
      "outputs": []
    },
    {
      "cell_type": "markdown",
      "source": [
        "#Kondisi ke empat.\n",
        " Disini kita akan mendeklarasikan data sebagai None, lalu memeriksanya jika data tersebut ada atau tidak."
      ],
      "metadata": {
        "id": "26w4ZH5XL1X6"
      }
    },
    {
      "cell_type": "code",
      "source": [
        "data = None\n",
        "if data:\n",
        "    print (\"data bukan none\")\n",
        "else:\n",
        "    print (\"data adalah none\")"
      ],
      "metadata": {
        "id": "rotwzwmPL6sS"
      },
      "execution_count": null,
      "outputs": []
    },
    {
      "cell_type": "markdown",
      "source": [
        "#Kondisi kelima.\n",
        " Anda pun dapat menggunakan if dalam satu baris pada bahasa pemrograman Python. Syntax nya akan terlihat seperti pada:"
      ],
      "metadata": {
        "id": "RSojRiDlMAmc"
      }
    },
    {
      "cell_type": "code",
      "source": [
        "a = 10\n",
        "b = 5\n",
        "if a > b: print(\"a lebih besar dari b\")"
      ],
      "metadata": {
        "id": "OE8am_VlMFTw"
      },
      "execution_count": null,
      "outputs": []
    },
    {
      "cell_type": "markdown",
      "source": [
        "#Kondisi ke enam.\n",
        "  Anda pun dapat menggunakan if else dalam satu baris, seperti pada contoh di bawah ini:"
      ],
      "metadata": {
        "id": "X4UlscNaMIwo"
      }
    },
    {
      "cell_type": "code",
      "source": [
        "num = 5\n",
        "print(\"Angka adalah lima \") if num == 5 else print(\"Angka bukan lima\")"
      ],
      "metadata": {
        "id": "PGlpekneMRte"
      },
      "execution_count": null,
      "outputs": []
    },
    {
      "cell_type": "markdown",
      "source": [
        "#Kondisi ketujuh.\n",
        "  Anda pun dapat menggunakan nested if-else statement, yaitu:"
      ],
      "metadata": {
        "id": "faYtdi1uMVHn"
      }
    },
    {
      "cell_type": "code",
      "source": [
        "num = 25\n",
        "if num > 10:\n",
        "    print(\"Angka lebih besar dari 10\")\n",
        "    if num > 20:\n",
        "        print(\"Angka lebih besar dari 20\")\n",
        "    if num > 30:\n",
        "        print(\"Angka lebih besar dari 30\")\n",
        "else:\n",
        "    print(\"Angka lebih kecil dari 10\")\n",
        "\n",
        "Nomer lebih besar dari 10\n",
        "Nomer lebih besar dari 20"
      ],
      "metadata": {
        "id": "A7V8UAglMd6V"
      },
      "execution_count": null,
      "outputs": []
    },
    {
      "cell_type": "markdown",
      "source": [
        "#Kondisi kedelapan.\n",
        "Anda dapat pula mengunakan operator and pada conditional statement. Operator ini menyatakan jika kondisi 1 dan 2 keduanya adalah benar."
      ],
      "metadata": {
        "id": "LUET0tJLMvVe"
      }
    },
    {
      "cell_type": "code",
      "source": [
        "num = 10\n",
        "if num > 5 and num < 15:\n",
        "     print(num)\n",
        "else:\n",
        "     print(\"Angka bisa lebih kecil dari 5 atau lebih besar dari 15\")"
      ],
      "metadata": {
        "id": "DrZQ9xoDM1W5"
      },
      "execution_count": null,
      "outputs": []
    },
    {
      "cell_type": "markdown",
      "source": [
        "#Kondisi kesembilan.\n",
        " Anda pun dapat menggunakan operator or dalam pernyataan bersyarat. Hal ini untuk"
      ],
      "metadata": {
        "id": "4ZezJXIUM61g"
      }
    },
    {
      "cell_type": "code",
      "source": [
        "num = 10\n",
        "if num > 5 or num < 7:\n",
        "     print(num)"
      ],
      "metadata": {
        "id": "M-6x4g7LM_R4"
      },
      "execution_count": null,
      "outputs": []
    }
  ]
}